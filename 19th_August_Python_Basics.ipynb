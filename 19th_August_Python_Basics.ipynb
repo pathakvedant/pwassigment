{
 "cells": [
  {
   "cell_type": "markdown",
   "id": "b22f094f-c5eb-4658-8e9d-d9501575d410",
   "metadata": {},
   "source": [
    "TOPIC: Python Basics Variable"
   ]
  },
  {
   "cell_type": "markdown",
   "id": "beb8c145-718f-4ca6-9c06-34864ceac894",
   "metadata": {},
   "source": [
    "1. Declare two variables, `x` and `y`, and assign them integer values. Swap the\n",
    "values of these variables without using any temporary variable."
   ]
  },
  {
   "cell_type": "code",
   "execution_count": 14,
   "id": "c958d70f-e5cb-4e3e-bebb-a182922ceac6",
   "metadata": {},
   "outputs": [
    {
     "name": "stdout",
     "output_type": "stream",
     "text": [
      "value of x,y = 9 8\n"
     ]
    }
   ],
   "source": [
    "x = 8\n",
    "y = 9\n",
    "x , y =y , x\n",
    "print(\"value of x,y =\",x,y)\n"
   ]
  },
  {
   "cell_type": "markdown",
   "id": "22b18a1d-7b10-4d0a-9095-16e34444ed51",
   "metadata": {},
   "source": [
    "2. Create a program that calculates the area of a rectangle. Take the length and\n",
    "width as inputs from the user and store them in variables. Calculate and\n",
    "display the area."
   ]
  },
  {
   "cell_type": "code",
   "execution_count": 15,
   "id": "d6cf649d-991a-48a7-832d-78a2e0d43914",
   "metadata": {},
   "outputs": [
    {
     "name": "stdin",
     "output_type": "stream",
     "text": [
      "enter the length 12\n",
      "enter the width 12\n"
     ]
    },
    {
     "name": "stdout",
     "output_type": "stream",
     "text": [
      "the are of rectangle is  144.0\n"
     ]
    }
   ],
   "source": [
    "l = float(input(\"enter the length\"))  # i have used float to take point values also\n",
    "w = float(input(\"enter the width\"))\n",
    "area = l*w\n",
    "print(\"the are of rectangle is \",area)"
   ]
  },
  {
   "cell_type": "markdown",
   "id": "7f3d2bc4-3ff3-4255-8710-92431184f519",
   "metadata": {},
   "source": [
    "3. Write a Python program that converts temperatures from Celsius to\n",
    "Fahrenheit. Take the temperature in Celsius as input, store it in a variable,\n",
    "convert it to Fahrenheit, and display the result."
   ]
  },
  {
   "cell_type": "code",
   "execution_count": 17,
   "id": "b6e2651c-fae9-4784-b741-fa9fda4f2846",
   "metadata": {},
   "outputs": [
    {
     "name": "stdin",
     "output_type": "stream",
     "text": [
      "enter the temp in celsius 37\n"
     ]
    },
    {
     "name": "stdout",
     "output_type": "stream",
     "text": [
      "temprature in Fahrenheit is  98.6\n"
     ]
    }
   ],
   "source": [
    "celsius = float(input(\"enter the temp in celsius\"))\n",
    "f = round(celsius * (9/5) + 32,2)                    #the value after the decimal was long so i have cut to 2 points only\n",
    "print(\"temprature in Fahrenheit is \" , f)"
   ]
  },
  {
   "cell_type": "markdown",
   "id": "4a362806-324e-4a2c-9c7c-b04fa0aceeb5",
   "metadata": {},
   "source": [
    "TOPIC: String Based Questions"
   ]
  },
  {
   "cell_type": "markdown",
   "id": "11f88aa9-04e9-4eb4-8722-2e6a9bee2c6f",
   "metadata": {},
   "source": [
    "1. Write a Python program that takes a string as input and prints the length of the string."
   ]
  },
  {
   "cell_type": "code",
   "execution_count": 18,
   "id": "c825d2fc-0fc3-4260-9abf-b6f8432a5bb3",
   "metadata": {},
   "outputs": [
    {
     "name": "stdin",
     "output_type": "stream",
     "text": [
      "Please write the word or sentence of which u want to count words vedant pathak\n"
     ]
    },
    {
     "name": "stdout",
     "output_type": "stream",
     "text": [
      "length of the word/sentence 13\n"
     ]
    }
   ],
   "source": [
    "a = input(\"Please write the word or sentence of which u want to count words\")\n",
    "x = len(a)\n",
    "print(\"length of the word/sentence\", x)"
   ]
  },
  {
   "cell_type": "markdown",
   "id": "a59d095b-ddc9-48fc-b149-9ad6afd328f0",
   "metadata": {},
   "source": [
    "2. Create a program that takes a sentence from the user and counts the number of vowels (a, e, i, o, u) in the string."
   ]
  },
  {
   "cell_type": "code",
   "execution_count": 27,
   "id": "4f3575d4-c78d-40c1-9788-63ba509fee13",
   "metadata": {},
   "outputs": [
    {
     "name": "stdin",
     "output_type": "stream",
     "text": [
      "Please write the word or sentence of which u want to count vowels of  ankit\n"
     ]
    },
    {
     "name": "stdout",
     "output_type": "stream",
     "text": [
      "No of vowels are  2\n"
     ]
    }
   ],
   "source": [
    "s=0\n",
    "word = input(\"Please write the word or sentence of which u want to count vowels of \")\n",
    "for i in word:\n",
    "    if( i == 'a' or i == 'e' or i == 'i' or i == 'o' or i == 'u'):\n",
    "        s=s+1\n",
    "print(\"No of vowels are \", s)\n",
    "\n",
    "        \n"
   ]
  },
  {
   "cell_type": "markdown",
   "id": "6af4ede2-aa8f-4290-b8e3-2ea62546336b",
   "metadata": {},
   "source": [
    "3. Given a string, reverse the order of characters using string slicing and print the reversed string."
   ]
  },
  {
   "cell_type": "code",
   "execution_count": 7,
   "id": "a6e01320-27ed-4fa7-97b3-db91c4b57183",
   "metadata": {},
   "outputs": [
    {
     "name": "stdin",
     "output_type": "stream",
     "text": [
      "Please write the word or sentence of which u want to reverse  vedant\n"
     ]
    },
    {
     "name": "stdout",
     "output_type": "stream",
     "text": [
      "tnadev\n"
     ]
    }
   ],
   "source": [
    "word = input(\"Please write the word or sentence of which u want to reverse \")\n",
    "reverse_word = word[::-1]\n",
    "print(reverse_word)"
   ]
  },
  {
   "cell_type": "markdown",
   "id": "a2080294-bceb-4a69-b341-8aa6b95a69bb",
   "metadata": {},
   "source": [
    "4.Write a program that takes a string as input and checks if it is a palindrome (reads the same forwards and backwards)."
   ]
  },
  {
   "cell_type": "code",
   "execution_count": 10,
   "id": "7e585a07-ea9c-4f17-904f-dc592351d9a1",
   "metadata": {},
   "outputs": [
    {
     "name": "stdin",
     "output_type": "stream",
     "text": [
      "Please enter the number to check whether it palindrome or not 1234\n"
     ]
    },
    {
     "name": "stdout",
     "output_type": "stream",
     "text": [
      " The entered Number is not Palindrome \n"
     ]
    }
   ],
   "source": [
    "n = input(\"Please enter the number to check whether it palindrome or not\")\n",
    "a = n[::-1]\n",
    "if n == a:\n",
    "    print(\" The entered Number is Palindrome \")\n",
    "else:\n",
    "    print(\" The entered Number is not Palindrome \")"
   ]
  },
  {
   "cell_type": "markdown",
   "id": "bd6d5219-a2ff-4692-ad01-1573672d2adf",
   "metadata": {},
   "source": [
    "5.Create a program that takes a string as input and removes all the spaces from it. Print the modified string without spaces."
   ]
  },
  {
   "cell_type": "code",
   "execution_count": 21,
   "id": "3b0bfe45-8c12-4b34-a143-c40b547685e8",
   "metadata": {},
   "outputs": [
    {
     "name": "stdin",
     "output_type": "stream",
     "text": [
      "Please enter the word/sentence to move spaces sdf sdf sdf\n"
     ]
    },
    {
     "name": "stdout",
     "output_type": "stream",
     "text": [
      "sdfsdfsdf\n"
     ]
    }
   ],
   "source": [
    "n = input(\"Please enter the word/sentence to move spaces\")\n",
    "for i in n:\n",
    "    if i == \" \":\n",
    "        new = n.replace(\" \",\"\")\n",
    "print(new)\n",
    "        "
   ]
  },
  {
   "cell_type": "code",
   "execution_count": null,
   "id": "ed26b261-58b2-4956-98d6-83f2af05afab",
   "metadata": {},
   "outputs": [],
   "source": []
  }
 ],
 "metadata": {
  "kernelspec": {
   "display_name": "Python 3 (ipykernel)",
   "language": "python",
   "name": "python3"
  },
  "language_info": {
   "codemirror_mode": {
    "name": "ipython",
    "version": 3
   },
   "file_extension": ".py",
   "mimetype": "text/x-python",
   "name": "python",
   "nbconvert_exporter": "python",
   "pygments_lexer": "ipython3",
   "version": "3.10.8"
  }
 },
 "nbformat": 4,
 "nbformat_minor": 5
}
